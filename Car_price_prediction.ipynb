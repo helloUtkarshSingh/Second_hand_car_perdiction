{
 "cells": [
  {
   "cell_type": "code",
   "execution_count": null,
   "id": "45b53b0a",
   "metadata": {},
   "outputs": [
    {
     "ename": "",
     "evalue": "",
     "output_type": "error",
     "traceback": [
      "\u001b[1;31mRunning cells with 'c:\\Users\\vi\\Second_hand_car_perdiction\\venv\\python.exe' requires the ipykernel package.\n",
      "\u001b[1;31mRun the following command to install 'ipykernel' into the Python environment. \n",
      "\u001b[1;31mCommand: 'conda install -p c:\\Users\\vi\\Second_hand_car_perdiction\\venv ipykernel --update-deps --force-reinstall'"
     ]
    }
   ],
   "source": [
    "import pandas as pd"
   ]
  },
  {
   "cell_type": "code",
   "execution_count": null,
   "id": "3e015b44",
   "metadata": {},
   "outputs": [
    {
     "ename": "",
     "evalue": "",
     "output_type": "error",
     "traceback": [
      "\u001b[1;31mRunning cells with 'c:\\Users\\vi\\Second_hand_car_perdiction\\venv\\python.exe' requires the ipykernel package.\n",
      "\u001b[1;31mRun the following command to install 'ipykernel' into the Python environment. \n",
      "\u001b[1;31mCommand: 'conda install -p c:\\Users\\vi\\Second_hand_car_perdiction\\venv ipykernel --update-deps --force-reinstall'"
     ]
    }
   ],
   "source": [
    "D1 = pd.read_csv(\"CAR DETAILS FROM CAR DEKHO.csv\")"
   ]
  },
  {
   "cell_type": "code",
   "execution_count": null,
   "id": "dc03bdad",
   "metadata": {},
   "outputs": [
    {
     "ename": "",
     "evalue": "",
     "output_type": "error",
     "traceback": [
      "\u001b[1;31mRunning cells with 'c:\\Users\\vi\\Second_hand_car_perdiction\\venv\\python.exe' requires the ipykernel package.\n",
      "\u001b[1;31mRun the following command to install 'ipykernel' into the Python environment. \n",
      "\u001b[1;31mCommand: 'conda install -p c:\\Users\\vi\\Second_hand_car_perdiction\\venv ipykernel --update-deps --force-reinstall'"
     ]
    }
   ],
   "source": [
    "D1.head(3)"
   ]
  },
  {
   "cell_type": "code",
   "execution_count": null,
   "id": "14c60801",
   "metadata": {},
   "outputs": [
    {
     "ename": "",
     "evalue": "",
     "output_type": "error",
     "traceback": [
      "\u001b[1;31mRunning cells with 'c:\\Users\\vi\\Second_hand_car_perdiction\\venv\\python.exe' requires the ipykernel package.\n",
      "\u001b[1;31mRun the following command to install 'ipykernel' into the Python environment. \n",
      "\u001b[1;31mCommand: 'conda install -p c:\\Users\\vi\\Second_hand_car_perdiction\\venv ipykernel --update-deps --force-reinstall'"
     ]
    }
   ],
   "source": [
    "D2 = pd.read_csv(\"Car details v3.csv\")\n",
    "D2.head(2)"
   ]
  },
  {
   "cell_type": "markdown",
   "id": "df648802",
   "metadata": {},
   "source": [
    "## Preparing Training Data"
   ]
  },
  {
   "cell_type": "code",
   "execution_count": null,
   "id": "a069a1c8",
   "metadata": {},
   "outputs": [
    {
     "ename": "",
     "evalue": "",
     "output_type": "error",
     "traceback": [
      "\u001b[1;31mRunning cells with 'c:\\Users\\vi\\Second_hand_car_perdiction\\venv\\python.exe' requires the ipykernel package.\n",
      "\u001b[1;31mRun the following command to install 'ipykernel' into the Python environment. \n",
      "\u001b[1;31mCommand: 'conda install -p c:\\Users\\vi\\Second_hand_car_perdiction\\venv ipykernel --update-deps --force-reinstall'"
     ]
    }
   ],
   "source": [
    "# Creating two seperate col for Brand and model from name col\n",
    "Carname = D1['name']\n",
    "model_name=[]\n",
    "brand_name=[]\n",
    "for name in Carname:\n",
    "    word = name.split()\n",
    "    brand = word[0]\n",
    "    model = \" \".join(word[1:])\n",
    "    model_name.append(model)\n",
    "    brand_name.append(brand)\n",
    "D1['Brand Name'] = brand_name\n",
    "D1['Model Name'] = model_name    "
   ]
  },
  {
   "cell_type": "code",
   "execution_count": null,
   "id": "1ae51c1f",
   "metadata": {},
   "outputs": [
    {
     "ename": "",
     "evalue": "",
     "output_type": "error",
     "traceback": [
      "\u001b[1;31mRunning cells with 'c:\\Users\\vi\\Second_hand_car_perdiction\\venv\\python.exe' requires the ipykernel package.\n",
      "\u001b[1;31mRun the following command to install 'ipykernel' into the Python environment. \n",
      "\u001b[1;31mCommand: 'conda install -p c:\\Users\\vi\\Second_hand_car_perdiction\\venv ipykernel --update-deps --force-reinstall'"
     ]
    }
   ],
   "source": [
    "D1.head(2)"
   ]
  },
  {
   "cell_type": "code",
   "execution_count": null,
   "id": "e85cbda1",
   "metadata": {},
   "outputs": [
    {
     "ename": "",
     "evalue": "",
     "output_type": "error",
     "traceback": [
      "\u001b[1;31mRunning cells with 'c:\\Users\\vi\\Second_hand_car_perdiction\\venv\\python.exe' requires the ipykernel package.\n",
      "\u001b[1;31mRun the following command to install 'ipykernel' into the Python environment. \n",
      "\u001b[1;31mCommand: 'conda install -p c:\\Users\\vi\\Second_hand_car_perdiction\\venv ipykernel --update-deps --force-reinstall'"
     ]
    }
   ],
   "source": [
    "D1.drop('name',axis=1,inplace=True)"
   ]
  },
  {
   "cell_type": "code",
   "execution_count": null,
   "id": "7acbba7e",
   "metadata": {},
   "outputs": [
    {
     "ename": "",
     "evalue": "",
     "output_type": "error",
     "traceback": [
      "\u001b[1;31mRunning cells with 'c:\\Users\\vi\\Second_hand_car_perdiction\\venv\\python.exe' requires the ipykernel package.\n",
      "\u001b[1;31mRun the following command to install 'ipykernel' into the Python environment. \n",
      "\u001b[1;31mCommand: 'conda install -p c:\\Users\\vi\\Second_hand_car_perdiction\\venv ipykernel --update-deps --force-reinstall'"
     ]
    }
   ],
   "source": [
    "D1.head(2)"
   ]
  },
  {
   "cell_type": "code",
   "execution_count": null,
   "id": "1259105e",
   "metadata": {},
   "outputs": [
    {
     "ename": "",
     "evalue": "",
     "output_type": "error",
     "traceback": [
      "\u001b[1;31mRunning cells with 'c:\\Users\\vi\\Second_hand_car_perdiction\\venv\\python.exe' requires the ipykernel package.\n",
      "\u001b[1;31mRun the following command to install 'ipykernel' into the Python environment. \n",
      "\u001b[1;31mCommand: 'conda install -p c:\\Users\\vi\\Second_hand_car_perdiction\\venv ipykernel --update-deps --force-reinstall'"
     ]
    }
   ],
   "source": [
    "D2.head(2)"
   ]
  },
  {
   "cell_type": "code",
   "execution_count": null,
   "id": "9f883851",
   "metadata": {},
   "outputs": [
    {
     "ename": "",
     "evalue": "",
     "output_type": "error",
     "traceback": [
      "\u001b[1;31mRunning cells with 'c:\\Users\\vi\\Second_hand_car_perdiction\\venv\\python.exe' requires the ipykernel package.\n",
      "\u001b[1;31mRun the following command to install 'ipykernel' into the Python environment. \n",
      "\u001b[1;31mCommand: 'conda install -p c:\\Users\\vi\\Second_hand_car_perdiction\\venv ipykernel --update-deps --force-reinstall'"
     ]
    }
   ],
   "source": [
    "# Creating two seperate col for Brand and model from name col\n",
    "Carname = D2['name']\n",
    "model_name=[]\n",
    "brand_name=[]\n",
    "for name in Carname:\n",
    "    word = name.split()\n",
    "    brand = word[0]\n",
    "    model = \" \".join(word[1:])\n",
    "    model_name.append(model)\n",
    "    brand_name.append(brand)\n",
    "D2['Brand Name'] = brand_name\n",
    "D2['Model Name'] = model_name  "
   ]
  },
  {
   "cell_type": "code",
   "execution_count": null,
   "id": "a54fc7ea",
   "metadata": {},
   "outputs": [
    {
     "ename": "",
     "evalue": "",
     "output_type": "error",
     "traceback": [
      "\u001b[1;31mRunning cells with 'c:\\Users\\vi\\Second_hand_car_perdiction\\venv\\python.exe' requires the ipykernel package.\n",
      "\u001b[1;31mRun the following command to install 'ipykernel' into the Python environment. \n",
      "\u001b[1;31mCommand: 'conda install -p c:\\Users\\vi\\Second_hand_car_perdiction\\venv ipykernel --update-deps --force-reinstall'"
     ]
    }
   ],
   "source": [
    "D2.head(2)"
   ]
  },
  {
   "cell_type": "code",
   "execution_count": null,
   "id": "b46ea296",
   "metadata": {},
   "outputs": [
    {
     "ename": "",
     "evalue": "",
     "output_type": "error",
     "traceback": [
      "\u001b[1;31mRunning cells with 'c:\\Users\\vi\\Second_hand_car_perdiction\\venv\\python.exe' requires the ipykernel package.\n",
      "\u001b[1;31mRun the following command to install 'ipykernel' into the Python environment. \n",
      "\u001b[1;31mCommand: 'conda install -p c:\\Users\\vi\\Second_hand_car_perdiction\\venv ipykernel --update-deps --force-reinstall'"
     ]
    }
   ],
   "source": [
    "D2.columns"
   ]
  },
  {
   "cell_type": "code",
   "execution_count": null,
   "id": "eda0dae8",
   "metadata": {},
   "outputs": [
    {
     "ename": "",
     "evalue": "",
     "output_type": "error",
     "traceback": [
      "\u001b[1;31mRunning cells with 'c:\\Users\\vi\\Second_hand_car_perdiction\\venv\\python.exe' requires the ipykernel package.\n",
      "\u001b[1;31mRun the following command to install 'ipykernel' into the Python environment. \n",
      "\u001b[1;31mCommand: 'conda install -p c:\\Users\\vi\\Second_hand_car_perdiction\\venv ipykernel --update-deps --force-reinstall'"
     ]
    }
   ],
   "source": [
    "D2.drop(['name','mileage', 'engine', 'max_power', 'torque',\n",
    "       'seats'],axis=1,inplace=True)"
   ]
  },
  {
   "cell_type": "code",
   "execution_count": null,
   "id": "f7602623",
   "metadata": {},
   "outputs": [
    {
     "ename": "",
     "evalue": "",
     "output_type": "error",
     "traceback": [
      "\u001b[1;31mRunning cells with 'c:\\Users\\vi\\Second_hand_car_perdiction\\venv\\python.exe' requires the ipykernel package.\n",
      "\u001b[1;31mRun the following command to install 'ipykernel' into the Python environment. \n",
      "\u001b[1;31mCommand: 'conda install -p c:\\Users\\vi\\Second_hand_car_perdiction\\venv ipykernel --update-deps --force-reinstall'"
     ]
    }
   ],
   "source": [
    "D1.head(2)"
   ]
  },
  {
   "cell_type": "code",
   "execution_count": null,
   "id": "e1fbc7a8",
   "metadata": {},
   "outputs": [
    {
     "ename": "",
     "evalue": "",
     "output_type": "error",
     "traceback": [
      "\u001b[1;31mRunning cells with 'c:\\Users\\vi\\Second_hand_car_perdiction\\venv\\python.exe' requires the ipykernel package.\n",
      "\u001b[1;31mRun the following command to install 'ipykernel' into the Python environment. \n",
      "\u001b[1;31mCommand: 'conda install -p c:\\Users\\vi\\Second_hand_car_perdiction\\venv ipykernel --update-deps --force-reinstall'"
     ]
    }
   ],
   "source": [
    "D2.head(2)"
   ]
  },
  {
   "cell_type": "code",
   "execution_count": null,
   "id": "8fa44cec",
   "metadata": {},
   "outputs": [
    {
     "ename": "",
     "evalue": "",
     "output_type": "error",
     "traceback": [
      "\u001b[1;31mRunning cells with 'c:\\Users\\vi\\Second_hand_car_perdiction\\venv\\python.exe' requires the ipykernel package.\n",
      "\u001b[1;31mRun the following command to install 'ipykernel' into the Python environment. \n",
      "\u001b[1;31mCommand: 'conda install -p c:\\Users\\vi\\Second_hand_car_perdiction\\venv ipykernel --update-deps --force-reinstall'"
     ]
    }
   ],
   "source": [
    "train_data = pd.concat([D1,D2],axis=0,ignore_index=True)"
   ]
  },
  {
   "cell_type": "code",
   "execution_count": null,
   "id": "c68826e7",
   "metadata": {},
   "outputs": [
    {
     "ename": "",
     "evalue": "",
     "output_type": "error",
     "traceback": [
      "\u001b[1;31mRunning cells with 'c:\\Users\\vi\\Second_hand_car_perdiction\\venv\\python.exe' requires the ipykernel package.\n",
      "\u001b[1;31mRun the following command to install 'ipykernel' into the Python environment. \n",
      "\u001b[1;31mCommand: 'conda install -p c:\\Users\\vi\\Second_hand_car_perdiction\\venv ipykernel --update-deps --force-reinstall'"
     ]
    }
   ],
   "source": [
    "train_data.rename(columns={'year':'Year', 'selling_price':'Selling Price', 'km_driven':'Kilometer_Driven',\n",
    "                           'fuel':'Fuel Type', 'seller_type':'Seller Type',\n",
    "       'transmission':'Transmission', 'owner':'Owner'},inplace=True)"
   ]
  },
  {
   "cell_type": "code",
   "execution_count": null,
   "id": "58b25a67",
   "metadata": {},
   "outputs": [
    {
     "ename": "",
     "evalue": "",
     "output_type": "error",
     "traceback": [
      "\u001b[1;31mRunning cells with 'c:\\Users\\vi\\Second_hand_car_perdiction\\venv\\python.exe' requires the ipykernel package.\n",
      "\u001b[1;31mRun the following command to install 'ipykernel' into the Python environment. \n",
      "\u001b[1;31mCommand: 'conda install -p c:\\Users\\vi\\Second_hand_car_perdiction\\venv ipykernel --update-deps --force-reinstall'"
     ]
    }
   ],
   "source": [
    "train_data.head(10)"
   ]
  },
  {
   "cell_type": "markdown",
   "id": "1c9b5491",
   "metadata": {},
   "source": [
    "## Preparing Test Data"
   ]
  },
  {
   "cell_type": "code",
   "execution_count": null,
   "id": "5cd59c0a",
   "metadata": {},
   "outputs": [
    {
     "ename": "",
     "evalue": "",
     "output_type": "error",
     "traceback": [
      "\u001b[1;31mRunning cells with 'c:\\Users\\vi\\Second_hand_car_perdiction\\venv\\python.exe' requires the ipykernel package.\n",
      "\u001b[1;31mRun the following command to install 'ipykernel' into the Python environment. \n",
      "\u001b[1;31mCommand: 'conda install -p c:\\Users\\vi\\Second_hand_car_perdiction\\venv ipykernel --update-deps --force-reinstall'"
     ]
    }
   ],
   "source": [
    "test_data = pd.read_csv(\"car details v4.csv\")\n",
    "test_data.head(2)"
   ]
  },
  {
   "cell_type": "code",
   "execution_count": null,
   "id": "c8ca90a9",
   "metadata": {},
   "outputs": [
    {
     "ename": "",
     "evalue": "",
     "output_type": "error",
     "traceback": [
      "\u001b[1;31mRunning cells with 'c:\\Users\\vi\\Second_hand_car_perdiction\\venv\\python.exe' requires the ipykernel package.\n",
      "\u001b[1;31mRun the following command to install 'ipykernel' into the Python environment. \n",
      "\u001b[1;31mCommand: 'conda install -p c:\\Users\\vi\\Second_hand_car_perdiction\\venv ipykernel --update-deps --force-reinstall'"
     ]
    }
   ],
   "source": [
    "test_data.drop(['Location', 'Color','Engine',\n",
    "       'Max Power', 'Max Torque', 'Drivetrain', 'Length', 'Width', 'Height',\n",
    "       'Seating Capacity', 'Fuel Tank Capacity'],axis=1,inplace=True)"
   ]
  },
  {
   "cell_type": "code",
   "execution_count": null,
   "id": "ff20a095",
   "metadata": {},
   "outputs": [
    {
     "ename": "",
     "evalue": "",
     "output_type": "error",
     "traceback": [
      "\u001b[1;31mRunning cells with 'c:\\Users\\vi\\Second_hand_car_perdiction\\venv\\python.exe' requires the ipykernel package.\n",
      "\u001b[1;31mRun the following command to install 'ipykernel' into the Python environment. \n",
      "\u001b[1;31mCommand: 'conda install -p c:\\Users\\vi\\Second_hand_car_perdiction\\venv ipykernel --update-deps --force-reinstall'"
     ]
    }
   ],
   "source": [
    "test_data.head(2)"
   ]
  },
  {
   "cell_type": "code",
   "execution_count": null,
   "id": "afe4ef7a",
   "metadata": {},
   "outputs": [
    {
     "ename": "",
     "evalue": "",
     "output_type": "error",
     "traceback": [
      "\u001b[1;31mRunning cells with 'c:\\Users\\vi\\Second_hand_car_perdiction\\venv\\python.exe' requires the ipykernel package.\n",
      "\u001b[1;31mRun the following command to install 'ipykernel' into the Python environment. \n",
      "\u001b[1;31mCommand: 'conda install -p c:\\Users\\vi\\Second_hand_car_perdiction\\venv ipykernel --update-deps --force-reinstall'"
     ]
    }
   ],
   "source": [
    "train_data.columns"
   ]
  },
  {
   "cell_type": "code",
   "execution_count": null,
   "id": "91859924",
   "metadata": {},
   "outputs": [
    {
     "ename": "",
     "evalue": "",
     "output_type": "error",
     "traceback": [
      "\u001b[1;31mRunning cells with 'c:\\Users\\vi\\Second_hand_car_perdiction\\venv\\python.exe' requires the ipykernel package.\n",
      "\u001b[1;31mRun the following command to install 'ipykernel' into the Python environment. \n",
      "\u001b[1;31mCommand: 'conda install -p c:\\Users\\vi\\Second_hand_car_perdiction\\venv ipykernel --update-deps --force-reinstall'"
     ]
    }
   ],
   "source": [
    "test_data.rename(columns={'Make':'Brand Name', \n",
    "           'Model':'Model Name', \n",
    "           'Price':'Selling price',\n",
    "           'Kilometer':'Kilometer_Driven', \n",
    "           },inplace=True)"
   ]
  },
  {
   "cell_type": "code",
   "execution_count": null,
   "id": "8381aad8",
   "metadata": {},
   "outputs": [
    {
     "ename": "",
     "evalue": "",
     "output_type": "error",
     "traceback": [
      "\u001b[1;31mRunning cells with 'c:\\Users\\vi\\Second_hand_car_perdiction\\venv\\python.exe' requires the ipykernel package.\n",
      "\u001b[1;31mRun the following command to install 'ipykernel' into the Python environment. \n",
      "\u001b[1;31mCommand: 'conda install -p c:\\Users\\vi\\Second_hand_car_perdiction\\venv ipykernel --update-deps --force-reinstall'"
     ]
    }
   ],
   "source": [
    "test_data.head(2)"
   ]
  },
  {
   "cell_type": "markdown",
   "id": "df69a38d",
   "metadata": {},
   "source": [
    "## EDA and Feature Enginerring\n"
   ]
  },
  {
   "cell_type": "code",
   "execution_count": null,
   "id": "515960b0",
   "metadata": {},
   "outputs": [
    {
     "ename": "",
     "evalue": "",
     "output_type": "error",
     "traceback": [
      "\u001b[1;31mRunning cells with 'c:\\Users\\vi\\Second_hand_car_perdiction\\venv\\python.exe' requires the ipykernel package.\n",
      "\u001b[1;31mRun the following command to install 'ipykernel' into the Python environment. \n",
      "\u001b[1;31mCommand: 'conda install -p c:\\Users\\vi\\Second_hand_car_perdiction\\venv ipykernel --update-deps --force-reinstall'"
     ]
    }
   ],
   "source": [
    "train_data.head(5)"
   ]
  },
  {
   "cell_type": "code",
   "execution_count": null,
   "id": "b8147f77",
   "metadata": {},
   "outputs": [
    {
     "ename": "",
     "evalue": "",
     "output_type": "error",
     "traceback": [
      "\u001b[1;31mRunning cells with 'c:\\Users\\vi\\Second_hand_car_perdiction\\venv\\python.exe' requires the ipykernel package.\n",
      "\u001b[1;31mRun the following command to install 'ipykernel' into the Python environment. \n",
      "\u001b[1;31mCommand: 'conda install -p c:\\Users\\vi\\Second_hand_car_perdiction\\venv ipykernel --update-deps --force-reinstall'"
     ]
    }
   ],
   "source": [
    "train_data.info()"
   ]
  },
  {
   "cell_type": "code",
   "execution_count": null,
   "id": "90c14f2a",
   "metadata": {},
   "outputs": [
    {
     "ename": "",
     "evalue": "",
     "output_type": "error",
     "traceback": [
      "\u001b[1;31mRunning cells with 'c:\\Users\\vi\\Second_hand_car_perdiction\\venv\\python.exe' requires the ipykernel package.\n",
      "\u001b[1;31mRun the following command to install 'ipykernel' into the Python environment. \n",
      "\u001b[1;31mCommand: 'conda install -p c:\\Users\\vi\\Second_hand_car_perdiction\\venv ipykernel --update-deps --force-reinstall'"
     ]
    }
   ],
   "source": [
    "#Checking for any Na vale\n",
    "train_data.isna().sum()"
   ]
  },
  {
   "cell_type": "code",
   "execution_count": null,
   "id": "26340f4a",
   "metadata": {},
   "outputs": [
    {
     "ename": "",
     "evalue": "",
     "output_type": "error",
     "traceback": [
      "\u001b[1;31mRunning cells with 'c:\\Users\\vi\\Second_hand_car_perdiction\\venv\\python.exe' requires the ipykernel package.\n",
      "\u001b[1;31mRun the following command to install 'ipykernel' into the Python environment. \n",
      "\u001b[1;31mCommand: 'conda install -p c:\\Users\\vi\\Second_hand_car_perdiction\\venv ipykernel --update-deps --force-reinstall'"
     ]
    }
   ],
   "source": [
    "#Checking for any Null vale\n",
    "train_data.isnull().sum()"
   ]
  },
  {
   "cell_type": "code",
   "execution_count": null,
   "id": "c8ef1fae",
   "metadata": {},
   "outputs": [
    {
     "ename": "",
     "evalue": "",
     "output_type": "error",
     "traceback": [
      "\u001b[1;31mRunning cells with 'c:\\Users\\vi\\Second_hand_car_perdiction\\venv\\python.exe' requires the ipykernel package.\n",
      "\u001b[1;31mRun the following command to install 'ipykernel' into the Python environment. \n",
      "\u001b[1;31mCommand: 'conda install -p c:\\Users\\vi\\Second_hand_car_perdiction\\venv ipykernel --update-deps --force-reinstall'"
     ]
    }
   ],
   "source": [
    "train_data.describe()"
   ]
  },
  {
   "cell_type": "code",
   "execution_count": null,
   "id": "cfd170f1",
   "metadata": {},
   "outputs": [
    {
     "ename": "",
     "evalue": "",
     "output_type": "error",
     "traceback": [
      "\u001b[1;31mRunning cells with 'c:\\Users\\vi\\Second_hand_car_perdiction\\venv\\python.exe' requires the ipykernel package.\n",
      "\u001b[1;31mRun the following command to install 'ipykernel' into the Python environment. \n",
      "\u001b[1;31mCommand: 'conda install -p c:\\Users\\vi\\Second_hand_car_perdiction\\venv ipykernel --update-deps --force-reinstall'"
     ]
    }
   ],
   "source": [
    "import matplotlib.pyplot as plt\n",
    "import seaborn as sns"
   ]
  },
  {
   "cell_type": "code",
   "execution_count": null,
   "id": "57de372c",
   "metadata": {},
   "outputs": [
    {
     "ename": "",
     "evalue": "",
     "output_type": "error",
     "traceback": [
      "\u001b[1;31mRunning cells with 'c:\\Users\\vi\\Second_hand_car_perdiction\\venv\\python.exe' requires the ipykernel package.\n",
      "\u001b[1;31mRun the following command to install 'ipykernel' into the Python environment. \n",
      "\u001b[1;31mCommand: 'conda install -p c:\\Users\\vi\\Second_hand_car_perdiction\\venv ipykernel --update-deps --force-reinstall'"
     ]
    }
   ],
   "source": [
    "brand = train_data['Brand Name'].unique()\n",
    "model = train_data['Brand Name'].value_counts()"
   ]
  },
  {
   "cell_type": "code",
   "execution_count": null,
   "id": "503b46be",
   "metadata": {},
   "outputs": [
    {
     "ename": "",
     "evalue": "",
     "output_type": "error",
     "traceback": [
      "\u001b[1;31mRunning cells with 'c:\\Users\\vi\\Second_hand_car_perdiction\\venv\\python.exe' requires the ipykernel package.\n",
      "\u001b[1;31mRun the following command to install 'ipykernel' into the Python environment. \n",
      "\u001b[1;31mCommand: 'conda install -p c:\\Users\\vi\\Second_hand_car_perdiction\\venv ipykernel --update-deps --force-reinstall'"
     ]
    }
   ],
   "source": [
    "brand"
   ]
  },
  {
   "cell_type": "code",
   "execution_count": null,
   "id": "43779d66",
   "metadata": {},
   "outputs": [
    {
     "ename": "",
     "evalue": "",
     "output_type": "error",
     "traceback": [
      "\u001b[1;31mRunning cells with 'c:\\Users\\vi\\Second_hand_car_perdiction\\venv\\python.exe' requires the ipykernel package.\n",
      "\u001b[1;31mRun the following command to install 'ipykernel' into the Python environment. \n",
      "\u001b[1;31mCommand: 'conda install -p c:\\Users\\vi\\Second_hand_car_perdiction\\venv ipykernel --update-deps --force-reinstall'"
     ]
    }
   ],
   "source": [
    "train_data['Brand Name'].value_counts()"
   ]
  },
  {
   "cell_type": "code",
   "execution_count": null,
   "id": "f86ac539",
   "metadata": {},
   "outputs": [
    {
     "ename": "",
     "evalue": "",
     "output_type": "error",
     "traceback": [
      "\u001b[1;31mRunning cells with 'c:\\Users\\vi\\Second_hand_car_perdiction\\venv\\python.exe' requires the ipykernel package.\n",
      "\u001b[1;31mRun the following command to install 'ipykernel' into the Python environment. \n",
      "\u001b[1;31mCommand: 'conda install -p c:\\Users\\vi\\Second_hand_car_perdiction\\venv ipykernel --update-deps --force-reinstall'"
     ]
    }
   ],
   "source": [
    "plt.figure(figsize=(13,10))\n",
    "sns.barplot(x=brand,y=model)\n",
    "plt.xlabel(\"Manufacturer Brand\")\n",
    "plt.ylabel(\"No.of model\")\n",
    "plt.title('Brand vs model count')\n",
    "plt.xticks( rotation=90)\n",
    "plt.show()"
   ]
  },
  {
   "cell_type": "code",
   "execution_count": null,
   "id": "b1605e1b",
   "metadata": {},
   "outputs": [
    {
     "ename": "",
     "evalue": "",
     "output_type": "error",
     "traceback": [
      "\u001b[1;31mRunning cells with 'c:\\Users\\vi\\Second_hand_car_perdiction\\venv\\python.exe' requires the ipykernel package.\n",
      "\u001b[1;31mRun the following command to install 'ipykernel' into the Python environment. \n",
      "\u001b[1;31mCommand: 'conda install -p c:\\Users\\vi\\Second_hand_car_perdiction\\venv ipykernel --update-deps --force-reinstall'"
     ]
    }
   ],
   "source": [
    "#Scatter plot to check the relation between price and km driven\n",
    "plt.figure(figsize=(13,10))\n",
    "sns.scatterplot(x=train_data['Selling Price'],y=train_data['Kilometer_Driven'],hue=train_data['Fuel Type'])\n",
    "plt.ylabel('Kilometer Driven')\n",
    "plt.xlabel('Price  of the car')\n",
    "plt.title(\"KM vs price\")\n",
    "plt.show()"
   ]
  },
  {
   "cell_type": "markdown",
   "id": "9315e1b5",
   "metadata": {},
   "source": [
    "Insight of the above graph\n",
    "1. The if the car is driven more KM is price is low"
   ]
  },
  {
   "cell_type": "code",
   "execution_count": null,
   "id": "e076615d",
   "metadata": {},
   "outputs": [
    {
     "ename": "",
     "evalue": "",
     "output_type": "error",
     "traceback": [
      "\u001b[1;31mRunning cells with 'c:\\Users\\vi\\Second_hand_car_perdiction\\venv\\python.exe' requires the ipykernel package.\n",
      "\u001b[1;31mRun the following command to install 'ipykernel' into the Python environment. \n",
      "\u001b[1;31mCommand: 'conda install -p c:\\Users\\vi\\Second_hand_car_perdiction\\venv ipykernel --update-deps --force-reinstall'"
     ]
    }
   ],
   "source": [
    "#Scatter plot to check the relation between price and year\n",
    "plt.figure(figsize=(13,10))\n",
    "sns.scatterplot(y=train_data['Selling Price'],x=train_data['Year'],hue=train_data['Fuel Type'])\n",
    "plt.xlabel('Year')\n",
    "plt.ylabel('Price  of the car')\n",
    "plt.title(\"year vs price\")\n",
    "plt.show()"
   ]
  },
  {
   "cell_type": "markdown",
   "id": "03011b9e",
   "metadata": {},
   "source": [
    "Insight of the above graph\n",
    "1.The price of diesel car are increasing year by year"
   ]
  },
  {
   "cell_type": "code",
   "execution_count": null,
   "id": "adf9aa53",
   "metadata": {},
   "outputs": [
    {
     "ename": "",
     "evalue": "",
     "output_type": "error",
     "traceback": [
      "\u001b[1;31mRunning cells with 'c:\\Users\\vi\\Second_hand_car_perdiction\\venv\\python.exe' requires the ipykernel package.\n",
      "\u001b[1;31mRun the following command to install 'ipykernel' into the Python environment. \n",
      "\u001b[1;31mCommand: 'conda install -p c:\\Users\\vi\\Second_hand_car_perdiction\\venv ipykernel --update-deps --force-reinstall'"
     ]
    }
   ],
   "source": [
    "price = train_data['Selling Price'].head(10)"
   ]
  },
  {
   "cell_type": "code",
   "execution_count": null,
   "id": "d48c4dd1",
   "metadata": {},
   "outputs": [
    {
     "ename": "",
     "evalue": "",
     "output_type": "error",
     "traceback": [
      "\u001b[1;31mRunning cells with 'c:\\Users\\vi\\Second_hand_car_perdiction\\venv\\python.exe' requires the ipykernel package.\n",
      "\u001b[1;31mRun the following command to install 'ipykernel' into the Python environment. \n",
      "\u001b[1;31mCommand: 'conda install -p c:\\Users\\vi\\Second_hand_car_perdiction\\venv ipykernel --update-deps --force-reinstall'"
     ]
    }
   ],
   "source": [
    "price"
   ]
  },
  {
   "cell_type": "code",
   "execution_count": null,
   "id": "00979f97",
   "metadata": {},
   "outputs": [
    {
     "ename": "",
     "evalue": "",
     "output_type": "error",
     "traceback": [
      "\u001b[1;31mRunning cells with 'c:\\Users\\vi\\Second_hand_car_perdiction\\venv\\python.exe' requires the ipykernel package.\n",
      "\u001b[1;31mRun the following command to install 'ipykernel' into the Python environment. \n",
      "\u001b[1;31mCommand: 'conda install -p c:\\Users\\vi\\Second_hand_car_perdiction\\venv ipykernel --update-deps --force-reinstall'"
     ]
    }
   ],
   "source": [
    "#Bar graph of brand and price\n",
    "plt.figure(figsize=(13,10))\n",
    "sns.barplot(y=train_data['Selling Price'],x=train_data['Brand Name'])\n",
    "plt.xticks(rotation=90)\n",
    "plt.xlabel('Brand Name')\n",
    "plt.ylabel(\"Price\")\n",
    "plt.title('Brand Vs Price')\n",
    "plt.show()"
   ]
  },
  {
   "cell_type": "markdown",
   "id": "70154718",
   "metadata": {},
   "source": [
    "Insight from above graph\n",
    "1.Manufacture like Maruti,Hyundai,Mahindra,Tata,Honda have more number of cars but there price are less\n",
    "2 On the other hand brands like BMW, Lexus, Mercedes have less no of cars but there price are expensive"
   ]
  },
  {
   "cell_type": "code",
   "execution_count": null,
   "id": "cad4d0c2",
   "metadata": {},
   "outputs": [
    {
     "ename": "",
     "evalue": "",
     "output_type": "error",
     "traceback": [
      "\u001b[1;31mRunning cells with 'c:\\Users\\vi\\Second_hand_car_perdiction\\venv\\python.exe' requires the ipykernel package.\n",
      "\u001b[1;31mRun the following command to install 'ipykernel' into the Python environment. \n",
      "\u001b[1;31mCommand: 'conda install -p c:\\Users\\vi\\Second_hand_car_perdiction\\venv ipykernel --update-deps --force-reinstall'"
     ]
    }
   ],
   "source": [
    "#Bar graph of brand and price\n",
    "plt.figure(figsize=(13,10))\n",
    "sns.barplot(y=train_data['Selling Price'],x=train_data['Owner'])\n",
    "plt.xticks(rotation=90)\n",
    "plt.xlabel('Type of Owner Name')\n",
    "plt.ylabel(\"Price\")\n",
    "plt.title('Owner Vs Price')\n",
    "plt.show()"
   ]
  },
  {
   "cell_type": "markdown",
   "id": "13c0ff5f",
   "metadata": {},
   "source": [
    "Insight from the above graph\n",
    "\n",
    "1.Price of test driven car are move as there are less driven the both catgories of car\n",
    "\n",
    "2.They are in good condition\n"
   ]
  },
  {
   "cell_type": "code",
   "execution_count": null,
   "id": "200ce45c",
   "metadata": {},
   "outputs": [
    {
     "ename": "",
     "evalue": "",
     "output_type": "error",
     "traceback": [
      "\u001b[1;31mRunning cells with 'c:\\Users\\vi\\Second_hand_car_perdiction\\venv\\python.exe' requires the ipykernel package.\n",
      "\u001b[1;31mRun the following command to install 'ipykernel' into the Python environment. \n",
      "\u001b[1;31mCommand: 'conda install -p c:\\Users\\vi\\Second_hand_car_perdiction\\venv ipykernel --update-deps --force-reinstall'"
     ]
    }
   ],
   "source": [
    "#Bar graph of fueltype and price\n",
    "plt.figure(figsize=(13,10))\n",
    "sns.barplot(y=train_data['Selling Price'],x=train_data['Fuel Type'])\n",
    "plt.xticks(rotation=90)\n",
    "plt.xlabel('Type of Fuel')\n",
    "plt.ylabel(\"Price\")\n",
    "plt.title('Fuel Vs Price')\n",
    "plt.show()"
   ]
  },
  {
   "cell_type": "markdown",
   "id": "f1728114",
   "metadata": {},
   "source": [
    "Insight from the above graph\n",
    "\n",
    "1.Car that use Diesel are expensive then other catorigal \n",
    "\n",
    "2.Followed by Petrol, Electric, CNG and LPG\n",
    "\n",
    "3.There is a neck to neck between CNG and Electric fuel type"
   ]
  },
  {
   "cell_type": "code",
   "execution_count": null,
   "id": "1aa16777",
   "metadata": {},
   "outputs": [
    {
     "ename": "",
     "evalue": "",
     "output_type": "error",
     "traceback": [
      "\u001b[1;31mRunning cells with 'c:\\Users\\vi\\Second_hand_car_perdiction\\venv\\python.exe' requires the ipykernel package.\n",
      "\u001b[1;31mRun the following command to install 'ipykernel' into the Python environment. \n",
      "\u001b[1;31mCommand: 'conda install -p c:\\Users\\vi\\Second_hand_car_perdiction\\venv ipykernel --update-deps --force-reinstall'"
     ]
    }
   ],
   "source": [
    "#Bar graph of fueltype and price\n",
    "plt.figure(figsize=(13,10))\n",
    "sns.barplot(y=train_data['Selling Price'],x=train_data['Transmission'])\n",
    "plt.xticks(rotation=90)\n",
    "plt.xlabel('Transmission System')\n",
    "plt.ylabel(\"Price\")\n",
    "plt.title('Transmission Vs Price')\n",
    "plt.show()"
   ]
  },
  {
   "cell_type": "markdown",
   "id": "6e65da8f",
   "metadata": {},
   "source": [
    "Insight from the above graph\n",
    "\n",
    "\n",
    "1.Automatic transmission car are expensive the manual car"
   ]
  },
  {
   "cell_type": "code",
   "execution_count": null,
   "id": "87638d28",
   "metadata": {},
   "outputs": [
    {
     "ename": "",
     "evalue": "",
     "output_type": "error",
     "traceback": [
      "\u001b[1;31mRunning cells with 'c:\\Users\\vi\\Second_hand_car_perdiction\\venv\\python.exe' requires the ipykernel package.\n",
      "\u001b[1;31mRun the following command to install 'ipykernel' into the Python environment. \n",
      "\u001b[1;31mCommand: 'conda install -p c:\\Users\\vi\\Second_hand_car_perdiction\\venv ipykernel --update-deps --force-reinstall'"
     ]
    }
   ],
   "source": [
    "#Bar graph of fueltype and price\n",
    "plt.figure(figsize=(13,10))\n",
    "sns.barplot(y=train_data['Selling Price'],x=train_data['Seller Type'])\n",
    "plt.xticks(rotation=90)\n",
    "plt.xlabel('Seller Type')\n",
    "plt.ylabel(\"Price\")\n",
    "plt.title('Seller Type Vs Price')\n",
    "plt.show()"
   ]
  },
  {
   "cell_type": "markdown",
   "id": "ecd6a6ce",
   "metadata": {},
   "source": [
    "Insight from the above graph\n",
    "\n",
    "1.Car that are sold from dealer are expensive the other 2 catgorial\n",
    "\n",
    "2.Followed by trustmark Dealer\n"
   ]
  },
  {
   "cell_type": "code",
   "execution_count": null,
   "id": "802a2cd2",
   "metadata": {},
   "outputs": [
    {
     "ename": "",
     "evalue": "",
     "output_type": "error",
     "traceback": [
      "\u001b[1;31mRunning cells with 'c:\\Users\\vi\\Second_hand_car_perdiction\\venv\\python.exe' requires the ipykernel package.\n",
      "\u001b[1;31mRun the following command to install 'ipykernel' into the Python environment. \n",
      "\u001b[1;31mCommand: 'conda install -p c:\\Users\\vi\\Second_hand_car_perdiction\\venv ipykernel --update-deps --force-reinstall'"
     ]
    }
   ],
   "source": [
    "train_data.head()"
   ]
  },
  {
   "cell_type": "code",
   "execution_count": null,
   "id": "9fd84b94",
   "metadata": {},
   "outputs": [
    {
     "ename": "",
     "evalue": "",
     "output_type": "error",
     "traceback": [
      "\u001b[1;31mRunning cells with 'c:\\Users\\vi\\Second_hand_car_perdiction\\venv\\python.exe' requires the ipykernel package.\n",
      "\u001b[1;31mRun the following command to install 'ipykernel' into the Python environment. \n",
      "\u001b[1;31mCommand: 'conda install -p c:\\Users\\vi\\Second_hand_car_perdiction\\venv ipykernel --update-deps --force-reinstall'"
     ]
    }
   ],
   "source": [
    "count = train_data['Brand Name'].value_counts()\n",
    "threshold = 84\n",
    "repl = count[count <= threshold].index\n",
    "train_data['Brand Name']=train_data['Brand Name'].replace(repl,'Other')"
   ]
  },
  {
   "cell_type": "code",
   "execution_count": null,
   "id": "2a2d4bfc",
   "metadata": {},
   "outputs": [
    {
     "ename": "",
     "evalue": "",
     "output_type": "error",
     "traceback": [
      "\u001b[1;31mRunning cells with 'c:\\Users\\vi\\Second_hand_car_perdiction\\venv\\python.exe' requires the ipykernel package.\n",
      "\u001b[1;31mRun the following command to install 'ipykernel' into the Python environment. \n",
      "\u001b[1;31mCommand: 'conda install -p c:\\Users\\vi\\Second_hand_car_perdiction\\venv ipykernel --update-deps --force-reinstall'"
     ]
    }
   ],
   "source": [
    "train_data['Brand Name'].value_counts()"
   ]
  },
  {
   "cell_type": "code",
   "execution_count": null,
   "id": "ef8110d7",
   "metadata": {},
   "outputs": [
    {
     "ename": "",
     "evalue": "",
     "output_type": "error",
     "traceback": [
      "\u001b[1;31mRunning cells with 'c:\\Users\\vi\\Second_hand_car_perdiction\\venv\\python.exe' requires the ipykernel package.\n",
      "\u001b[1;31mRun the following command to install 'ipykernel' into the Python environment. \n",
      "\u001b[1;31mCommand: 'conda install -p c:\\Users\\vi\\Second_hand_car_perdiction\\venv ipykernel --update-deps --force-reinstall'"
     ]
    }
   ],
   "source": [
    "count = train_data['Model Name'].value_counts()\n",
    "threshold = 30\n",
    "repl = count[count <= threshold].index\n",
    "train_data['Model Name']=train_data['Model Name'].replace(repl,'Other')"
   ]
  },
  {
   "cell_type": "code",
   "execution_count": null,
   "id": "c6d2c88d",
   "metadata": {},
   "outputs": [
    {
     "ename": "",
     "evalue": "",
     "output_type": "error",
     "traceback": [
      "\u001b[1;31mRunning cells with 'c:\\Users\\vi\\Second_hand_car_perdiction\\venv\\python.exe' requires the ipykernel package.\n",
      "\u001b[1;31mRun the following command to install 'ipykernel' into the Python environment. \n",
      "\u001b[1;31mCommand: 'conda install -p c:\\Users\\vi\\Second_hand_car_perdiction\\venv ipykernel --update-deps --force-reinstall'"
     ]
    }
   ],
   "source": [
    "train_data.head(10)"
   ]
  },
  {
   "cell_type": "code",
   "execution_count": null,
   "id": "4bc7dab8",
   "metadata": {},
   "outputs": [
    {
     "ename": "",
     "evalue": "",
     "output_type": "error",
     "traceback": [
      "\u001b[1;31mRunning cells with 'c:\\Users\\vi\\Second_hand_car_perdiction\\venv\\python.exe' requires the ipykernel package.\n",
      "\u001b[1;31mRun the following command to install 'ipykernel' into the Python environment. \n",
      "\u001b[1;31mCommand: 'conda install -p c:\\Users\\vi\\Second_hand_car_perdiction\\venv ipykernel --update-deps --force-reinstall'"
     ]
    }
   ],
   "source": [
    "train_data.columns"
   ]
  },
  {
   "cell_type": "code",
   "execution_count": null,
   "id": "e1302c06",
   "metadata": {
    "scrolled": true
   },
   "outputs": [
    {
     "ename": "",
     "evalue": "",
     "output_type": "error",
     "traceback": [
      "\u001b[1;31mRunning cells with 'c:\\Users\\vi\\Second_hand_car_perdiction\\venv\\python.exe' requires the ipykernel package.\n",
      "\u001b[1;31mRun the following command to install 'ipykernel' into the Python environment. \n",
      "\u001b[1;31mCommand: 'conda install -p c:\\Users\\vi\\Second_hand_car_perdiction\\venv ipykernel --update-deps --force-reinstall'"
     ]
    }
   ],
   "source": [
    "train_data['Model Name'].unique()"
   ]
  },
  {
   "cell_type": "code",
   "execution_count": null,
   "id": "a0f2a017",
   "metadata": {},
   "outputs": [
    {
     "ename": "",
     "evalue": "",
     "output_type": "error",
     "traceback": [
      "\u001b[1;31mRunning cells with 'c:\\Users\\vi\\Second_hand_car_perdiction\\venv\\python.exe' requires the ipykernel package.\n",
      "\u001b[1;31mRun the following command to install 'ipykernel' into the Python environment. \n",
      "\u001b[1;31mCommand: 'conda install -p c:\\Users\\vi\\Second_hand_car_perdiction\\venv ipykernel --update-deps --force-reinstall'"
     ]
    }
   ],
   "source": [
    "from sklearn.pipeline import Pipeline,make_pipeline\n",
    "from sklearn.preprocessing import OneHotEncoder,OrdinalEncoder\n",
    "from sklearn.model_selection import train_test_split\n",
    "from sklearn.compose import ColumnTransformer\n",
    "from sklearn.preprocessing import MinMaxScaler\n",
    "from sklearn.ensemble import RandomForestRegressor\n",
    "from sklearn.feature_selection import SelectKBest,chi2"
   ]
  },
  {
   "cell_type": "code",
   "execution_count": null,
   "id": "bc8db482",
   "metadata": {},
   "outputs": [
    {
     "ename": "",
     "evalue": "",
     "output_type": "error",
     "traceback": [
      "\u001b[1;31mRunning cells with 'c:\\Users\\vi\\Second_hand_car_perdiction\\venv\\python.exe' requires the ipykernel package.\n",
      "\u001b[1;31mRun the following command to install 'ipykernel' into the Python environment. \n",
      "\u001b[1;31mCommand: 'conda install -p c:\\Users\\vi\\Second_hand_car_perdiction\\venv ipykernel --update-deps --force-reinstall'"
     ]
    }
   ],
   "source": [
    "X = train_data[['Year','Kilometer_Driven', 'Fuel Type', 'Seller Type',\n",
    "       'Transmission', 'Owner', 'Brand Name', 'Model Name']]"
   ]
  },
  {
   "cell_type": "code",
   "execution_count": null,
   "id": "7ca3359d",
   "metadata": {},
   "outputs": [
    {
     "ename": "",
     "evalue": "",
     "output_type": "error",
     "traceback": [
      "\u001b[1;31mRunning cells with 'c:\\Users\\vi\\Second_hand_car_perdiction\\venv\\python.exe' requires the ipykernel package.\n",
      "\u001b[1;31mRun the following command to install 'ipykernel' into the Python environment. \n",
      "\u001b[1;31mCommand: 'conda install -p c:\\Users\\vi\\Second_hand_car_perdiction\\venv ipykernel --update-deps --force-reinstall'"
     ]
    }
   ],
   "source": [
    "y = train_data['Selling Price']"
   ]
  },
  {
   "cell_type": "code",
   "execution_count": null,
   "id": "5d197320",
   "metadata": {},
   "outputs": [
    {
     "ename": "",
     "evalue": "",
     "output_type": "error",
     "traceback": [
      "\u001b[1;31mRunning cells with 'c:\\Users\\vi\\Second_hand_car_perdiction\\venv\\python.exe' requires the ipykernel package.\n",
      "\u001b[1;31mRun the following command to install 'ipykernel' into the Python environment. \n",
      "\u001b[1;31mCommand: 'conda install -p c:\\Users\\vi\\Second_hand_car_perdiction\\venv ipykernel --update-deps --force-reinstall'"
     ]
    }
   ],
   "source": [
    "train_data['Owner'].unique()"
   ]
  },
  {
   "cell_type": "code",
   "execution_count": null,
   "id": "c997fb2c",
   "metadata": {},
   "outputs": [
    {
     "ename": "",
     "evalue": "",
     "output_type": "error",
     "traceback": [
      "\u001b[1;31mRunning cells with 'c:\\Users\\vi\\Second_hand_car_perdiction\\venv\\python.exe' requires the ipykernel package.\n",
      "\u001b[1;31mRun the following command to install 'ipykernel' into the Python environment. \n",
      "\u001b[1;31mCommand: 'conda install -p c:\\Users\\vi\\Second_hand_car_perdiction\\venv ipykernel --update-deps --force-reinstall'"
     ]
    }
   ],
   "source": [
    "X_train,X_test,y_train,y_test = train_test_split(X,y,test_size=0.2,random_state=12)"
   ]
  },
  {
   "cell_type": "code",
   "execution_count": null,
   "id": "35a670e3",
   "metadata": {},
   "outputs": [
    {
     "ename": "",
     "evalue": "",
     "output_type": "error",
     "traceback": [
      "\u001b[1;31mRunning cells with 'c:\\Users\\vi\\Second_hand_car_perdiction\\venv\\python.exe' requires the ipykernel package.\n",
      "\u001b[1;31mRun the following command to install 'ipykernel' into the Python environment. \n",
      "\u001b[1;31mCommand: 'conda install -p c:\\Users\\vi\\Second_hand_car_perdiction\\venv ipykernel --update-deps --force-reinstall'"
     ]
    }
   ],
   "source": [
    "X.head()"
   ]
  },
  {
   "cell_type": "code",
   "execution_count": null,
   "id": "77cee3b0",
   "metadata": {},
   "outputs": [
    {
     "ename": "",
     "evalue": "",
     "output_type": "error",
     "traceback": [
      "\u001b[1;31mRunning cells with 'c:\\Users\\vi\\Second_hand_car_perdiction\\venv\\python.exe' requires the ipykernel package.\n",
      "\u001b[1;31mRun the following command to install 'ipykernel' into the Python environment. \n",
      "\u001b[1;31mCommand: 'conda install -p c:\\Users\\vi\\Second_hand_car_perdiction\\venv ipykernel --update-deps --force-reinstall'"
     ]
    }
   ],
   "source": [
    "train_data['Kilometer_Driven'].min()"
   ]
  },
  {
   "cell_type": "code",
   "execution_count": null,
   "id": "d80c7352",
   "metadata": {},
   "outputs": [
    {
     "ename": "",
     "evalue": "",
     "output_type": "error",
     "traceback": [
      "\u001b[1;31mRunning cells with 'c:\\Users\\vi\\Second_hand_car_perdiction\\venv\\python.exe' requires the ipykernel package.\n",
      "\u001b[1;31mRun the following command to install 'ipykernel' into the Python environment. \n",
      "\u001b[1;31mCommand: 'conda install -p c:\\Users\\vi\\Second_hand_car_perdiction\\venv ipykernel --update-deps --force-reinstall'"
     ]
    }
   ],
   "source": [
    "X['Model Name'].nunique()"
   ]
  },
  {
   "cell_type": "code",
   "execution_count": null,
   "id": "8234d0e4",
   "metadata": {},
   "outputs": [
    {
     "ename": "",
     "evalue": "",
     "output_type": "error",
     "traceback": [
      "\u001b[1;31mRunning cells with 'c:\\Users\\vi\\Second_hand_car_perdiction\\venv\\python.exe' requires the ipykernel package.\n",
      "\u001b[1;31mRun the following command to install 'ipykernel' into the Python environment. \n",
      "\u001b[1;31mCommand: 'conda install -p c:\\Users\\vi\\Second_hand_car_perdiction\\venv ipykernel --update-deps --force-reinstall'"
     ]
    }
   ],
   "source": [
    "#6+16+52"
   ]
  },
  {
   "cell_type": "code",
   "execution_count": null,
   "id": "e951f919",
   "metadata": {},
   "outputs": [
    {
     "ename": "",
     "evalue": "",
     "output_type": "error",
     "traceback": [
      "\u001b[1;31mRunning cells with 'c:\\Users\\vi\\Second_hand_car_perdiction\\venv\\python.exe' requires the ipykernel package.\n",
      "\u001b[1;31mRun the following command to install 'ipykernel' into the Python environment. \n",
      "\u001b[1;31mCommand: 'conda install -p c:\\Users\\vi\\Second_hand_car_perdiction\\venv ipykernel --update-deps --force-reinstall'"
     ]
    }
   ],
   "source": [
    "# Applying OrdinalEncoder on col 'Fuel Type', 'Seller Type', 'Transmission', 'Owner'\n",
    "# and OneHotEncoder on col 'Brand Name', 'Model Name'\n",
    "# transfom a.k.a trf\n",
    "trf1 = ColumnTransformer([\n",
    "    ('Ordinal Encoder',OrdinalEncoder(categories=[['LPG','CNG','Electric','Petrol','Diesel'],['Individual','Trustmark Dealer','Dealer'],['Manual', 'Automatic'],[ 'Fourth & Above Owner','Third Owner','Second Owner','First Owner', \n",
    "        'Test Drive Car']]),[2,3,4,5])\n",
    "],remainder='passthrough')"
   ]
  },
  {
   "cell_type": "code",
   "execution_count": null,
   "id": "1c53f50f",
   "metadata": {},
   "outputs": [
    {
     "ename": "",
     "evalue": "",
     "output_type": "error",
     "traceback": [
      "\u001b[1;31mRunning cells with 'c:\\Users\\vi\\Second_hand_car_perdiction\\venv\\python.exe' requires the ipykernel package.\n",
      "\u001b[1;31mRun the following command to install 'ipykernel' into the Python environment. \n",
      "\u001b[1;31mCommand: 'conda install -p c:\\Users\\vi\\Second_hand_car_perdiction\\venv ipykernel --update-deps --force-reinstall'"
     ]
    }
   ],
   "source": [
    "# Applying OneHotEncoder on col 'Brand Name', 'Model Name'\n",
    "trf2 = ColumnTransformer([\n",
    "    ('OneHotEncoder',OneHotEncoder(sparse=False,handle_unknown='ignore',drop='first'),[6,7])\n",
    "],remainder='passthrough')"
   ]
  },
  {
   "cell_type": "code",
   "execution_count": null,
   "id": "37b44a23",
   "metadata": {},
   "outputs": [
    {
     "ename": "",
     "evalue": "",
     "output_type": "error",
     "traceback": [
      "\u001b[1;31mRunning cells with 'c:\\Users\\vi\\Second_hand_car_perdiction\\venv\\python.exe' requires the ipykernel package.\n",
      "\u001b[1;31mRun the following command to install 'ipykernel' into the Python environment. \n",
      "\u001b[1;31mCommand: 'conda install -p c:\\Users\\vi\\Second_hand_car_perdiction\\venv ipykernel --update-deps --force-reinstall'"
     ]
    }
   ],
   "source": [
    "# Scaling \n",
    "trf3 =ColumnTransformer([\n",
    "    ('Scaling',MinMaxScaler(),slice(0,74))\n",
    "])"
   ]
  },
  {
   "cell_type": "code",
   "execution_count": null,
   "id": "5da63a00",
   "metadata": {},
   "outputs": [
    {
     "ename": "",
     "evalue": "",
     "output_type": "error",
     "traceback": [
      "\u001b[1;31mRunning cells with 'c:\\Users\\vi\\Second_hand_car_perdiction\\venv\\python.exe' requires the ipykernel package.\n",
      "\u001b[1;31mRun the following command to install 'ipykernel' into the Python environment. \n",
      "\u001b[1;31mCommand: 'conda install -p c:\\Users\\vi\\Second_hand_car_perdiction\\venv ipykernel --update-deps --force-reinstall'"
     ]
    }
   ],
   "source": [
    "#Feature Selection\n",
    "trf4 = SelectKBest(score_func=chi2,k=25)"
   ]
  },
  {
   "cell_type": "code",
   "execution_count": null,
   "id": "6a0044e7",
   "metadata": {},
   "outputs": [
    {
     "ename": "",
     "evalue": "",
     "output_type": "error",
     "traceback": [
      "\u001b[1;31mRunning cells with 'c:\\Users\\vi\\Second_hand_car_perdiction\\venv\\python.exe' requires the ipykernel package.\n",
      "\u001b[1;31mRun the following command to install 'ipykernel' into the Python environment. \n",
      "\u001b[1;31mCommand: 'conda install -p c:\\Users\\vi\\Second_hand_car_perdiction\\venv ipykernel --update-deps --force-reinstall'"
     ]
    }
   ],
   "source": [
    "trf5 = RandomForestRegressor()"
   ]
  },
  {
   "cell_type": "markdown",
   "id": "0e3eea74",
   "metadata": {},
   "source": [
    "## Make Pipeline"
   ]
  },
  {
   "cell_type": "code",
   "execution_count": null,
   "id": "92f62dab",
   "metadata": {},
   "outputs": [
    {
     "ename": "",
     "evalue": "",
     "output_type": "error",
     "traceback": [
      "\u001b[1;31mRunning cells with 'c:\\Users\\vi\\Second_hand_car_perdiction\\venv\\python.exe' requires the ipykernel package.\n",
      "\u001b[1;31mRun the following command to install 'ipykernel' into the Python environment. \n",
      "\u001b[1;31mCommand: 'conda install -p c:\\Users\\vi\\Second_hand_car_perdiction\\venv ipykernel --update-deps --force-reinstall'"
     ]
    }
   ],
   "source": [
    "pipe = Pipeline([\n",
    "    ('Ordinal Encoder',trf1),\n",
    "    ('OneHotEncoder',trf2),\n",
    "    ('Scaling',trf3),\n",
    "    ('Feature Selection',trf4),\n",
    "    ('Model',trf5)\n",
    "])"
   ]
  },
  {
   "cell_type": "code",
   "execution_count": null,
   "id": "570f12da",
   "metadata": {},
   "outputs": [
    {
     "ename": "",
     "evalue": "",
     "output_type": "error",
     "traceback": [
      "\u001b[1;31mRunning cells with 'c:\\Users\\vi\\Second_hand_car_perdiction\\venv\\python.exe' requires the ipykernel package.\n",
      "\u001b[1;31mRun the following command to install 'ipykernel' into the Python environment. \n",
      "\u001b[1;31mCommand: 'conda install -p c:\\Users\\vi\\Second_hand_car_perdiction\\venv ipykernel --update-deps --force-reinstall'"
     ]
    }
   ],
   "source": [
    "from sklearn import set_config\n",
    "set_config(display='diagram')"
   ]
  },
  {
   "cell_type": "code",
   "execution_count": null,
   "id": "c7c58f4c",
   "metadata": {},
   "outputs": [
    {
     "ename": "",
     "evalue": "",
     "output_type": "error",
     "traceback": [
      "\u001b[1;31mRunning cells with 'c:\\Users\\vi\\Second_hand_car_perdiction\\venv\\python.exe' requires the ipykernel package.\n",
      "\u001b[1;31mRun the following command to install 'ipykernel' into the Python environment. \n",
      "\u001b[1;31mCommand: 'conda install -p c:\\Users\\vi\\Second_hand_car_perdiction\\venv ipykernel --update-deps --force-reinstall'"
     ]
    }
   ],
   "source": [
    "#Traing the model\n",
    "pipe.fit(X_train,y_train)"
   ]
  },
  {
   "cell_type": "code",
   "execution_count": null,
   "id": "74240d28",
   "metadata": {},
   "outputs": [
    {
     "ename": "",
     "evalue": "",
     "output_type": "error",
     "traceback": [
      "\u001b[1;31mRunning cells with 'c:\\Users\\vi\\Second_hand_car_perdiction\\venv\\python.exe' requires the ipykernel package.\n",
      "\u001b[1;31mRun the following command to install 'ipykernel' into the Python environment. \n",
      "\u001b[1;31mCommand: 'conda install -p c:\\Users\\vi\\Second_hand_car_perdiction\\venv ipykernel --update-deps --force-reinstall'"
     ]
    }
   ],
   "source": [
    "y_pred = pipe.predict(X_test)"
   ]
  },
  {
   "cell_type": "code",
   "execution_count": null,
   "id": "2d22a65d",
   "metadata": {},
   "outputs": [
    {
     "ename": "",
     "evalue": "",
     "output_type": "error",
     "traceback": [
      "\u001b[1;31mRunning cells with 'c:\\Users\\vi\\Second_hand_car_perdiction\\venv\\python.exe' requires the ipykernel package.\n",
      "\u001b[1;31mRun the following command to install 'ipykernel' into the Python environment. \n",
      "\u001b[1;31mCommand: 'conda install -p c:\\Users\\vi\\Second_hand_car_perdiction\\venv ipykernel --update-deps --force-reinstall'"
     ]
    }
   ],
   "source": [
    "y_pred"
   ]
  },
  {
   "cell_type": "code",
   "execution_count": null,
   "id": "93fe1cb4",
   "metadata": {},
   "outputs": [
    {
     "ename": "",
     "evalue": "",
     "output_type": "error",
     "traceback": [
      "\u001b[1;31mRunning cells with 'c:\\Users\\vi\\Second_hand_car_perdiction\\venv\\python.exe' requires the ipykernel package.\n",
      "\u001b[1;31mRun the following command to install 'ipykernel' into the Python environment. \n",
      "\u001b[1;31mCommand: 'conda install -p c:\\Users\\vi\\Second_hand_car_perdiction\\venv ipykernel --update-deps --force-reinstall'"
     ]
    }
   ],
   "source": [
    "from sklearn import metrics"
   ]
  },
  {
   "cell_type": "code",
   "execution_count": null,
   "id": "03f00a95",
   "metadata": {},
   "outputs": [
    {
     "ename": "",
     "evalue": "",
     "output_type": "error",
     "traceback": [
      "\u001b[1;31mRunning cells with 'c:\\Users\\vi\\Second_hand_car_perdiction\\venv\\python.exe' requires the ipykernel package.\n",
      "\u001b[1;31mRun the following command to install 'ipykernel' into the Python environment. \n",
      "\u001b[1;31mCommand: 'conda install -p c:\\Users\\vi\\Second_hand_car_perdiction\\venv ipykernel --update-deps --force-reinstall'"
     ]
    }
   ],
   "source": [
    "print(\"Auccary\",pipe.score(X_test,y_test))"
   ]
  },
  {
   "cell_type": "code",
   "execution_count": null,
   "id": "b1359d0f",
   "metadata": {},
   "outputs": [
    {
     "ename": "",
     "evalue": "",
     "output_type": "error",
     "traceback": [
      "\u001b[1;31mRunning cells with 'c:\\Users\\vi\\Second_hand_car_perdiction\\venv\\python.exe' requires the ipykernel package.\n",
      "\u001b[1;31mRun the following command to install 'ipykernel' into the Python environment. \n",
      "\u001b[1;31mCommand: 'conda install -p c:\\Users\\vi\\Second_hand_car_perdiction\\venv ipykernel --update-deps --force-reinstall'"
     ]
    }
   ],
   "source": [
    "metrics.r2_score(y_test,y_pred)"
   ]
  },
  {
   "cell_type": "code",
   "execution_count": null,
   "id": "827fa778",
   "metadata": {},
   "outputs": [
    {
     "ename": "",
     "evalue": "",
     "output_type": "error",
     "traceback": [
      "\u001b[1;31mRunning cells with 'c:\\Users\\vi\\Second_hand_car_perdiction\\venv\\python.exe' requires the ipykernel package.\n",
      "\u001b[1;31mRun the following command to install 'ipykernel' into the Python environment. \n",
      "\u001b[1;31mCommand: 'conda install -p c:\\Users\\vi\\Second_hand_car_perdiction\\venv ipykernel --update-deps --force-reinstall'"
     ]
    }
   ],
   "source": [
    "import seaborn as sns\n",
    "sns.scatterplot(y_test,y_pred,alpha=0.4)\n",
    "plt.xlabel('Y Test')\n",
    "plt.ylabel('Y Pred')\n",
    "plt.show()"
   ]
  },
  {
   "cell_type": "code",
   "execution_count": null,
   "id": "e0971fc1",
   "metadata": {},
   "outputs": [
    {
     "ename": "",
     "evalue": "",
     "output_type": "error",
     "traceback": [
      "\u001b[1;31mRunning cells with 'c:\\Users\\vi\\Second_hand_car_perdiction\\venv\\python.exe' requires the ipykernel package.\n",
      "\u001b[1;31mRun the following command to install 'ipykernel' into the Python environment. \n",
      "\u001b[1;31mCommand: 'conda install -p c:\\Users\\vi\\Second_hand_car_perdiction\\venv ipykernel --update-deps --force-reinstall'"
     ]
    }
   ],
   "source": [
    "sns.displot(y_pred-y_test)    \n",
    "plt.show()"
   ]
  },
  {
   "cell_type": "code",
   "execution_count": null,
   "id": "bc185e79",
   "metadata": {},
   "outputs": [
    {
     "ename": "",
     "evalue": "",
     "output_type": "error",
     "traceback": [
      "\u001b[1;31mRunning cells with 'c:\\Users\\vi\\Second_hand_car_perdiction\\venv\\python.exe' requires the ipykernel package.\n",
      "\u001b[1;31mRun the following command to install 'ipykernel' into the Python environment. \n",
      "\u001b[1;31mCommand: 'conda install -p c:\\Users\\vi\\Second_hand_car_perdiction\\venv ipykernel --update-deps --force-reinstall'"
     ]
    }
   ],
   "source": [
    "import pickle\n",
    "pickle.dump(pipe,open('Car_price_prediction.pkl','wb'))"
   ]
  },
  {
   "cell_type": "code",
   "execution_count": null,
   "id": "c4131ea3",
   "metadata": {},
   "outputs": [
    {
     "ename": "",
     "evalue": "",
     "output_type": "error",
     "traceback": [
      "\u001b[1;31mRunning cells with 'c:\\Users\\vi\\Second_hand_car_perdiction\\venv\\python.exe' requires the ipykernel package.\n",
      "\u001b[1;31mRun the following command to install 'ipykernel' into the Python environment. \n",
      "\u001b[1;31mCommand: 'conda install -p c:\\Users\\vi\\Second_hand_car_perdiction\\venv ipykernel --update-deps --force-reinstall'"
     ]
    }
   ],
   "source": [
    "from sklearn.model_selection import GridSearchCV"
   ]
  },
  {
   "cell_type": "code",
   "execution_count": null,
   "id": "296a6c20",
   "metadata": {},
   "outputs": [
    {
     "ename": "",
     "evalue": "",
     "output_type": "error",
     "traceback": [
      "\u001b[1;31mRunning cells with 'c:\\Users\\vi\\Second_hand_car_perdiction\\venv\\python.exe' requires the ipykernel package.\n",
      "\u001b[1;31mRun the following command to install 'ipykernel' into the Python environment. \n",
      "\u001b[1;31mCommand: 'conda install -p c:\\Users\\vi\\Second_hand_car_perdiction\\venv ipykernel --update-deps --force-reinstall'"
     ]
    }
   ],
   "source": [
    "param_grid={\n",
    "    'Model__n_estimators':[100,150,200],\n",
    "    'Model__max_depth':[1,2,3,4,5,10,None],\n",
    "    'Model__criterion':[\"squared_error\", \"absolute_error\", \"poisson\"],\n",
    "    'Model__min_samples_split':[2,4,6,8,10]\n",
    "}"
   ]
  },
  {
   "cell_type": "code",
   "execution_count": null,
   "id": "95a1cf02",
   "metadata": {},
   "outputs": [
    {
     "ename": "",
     "evalue": "",
     "output_type": "error",
     "traceback": [
      "\u001b[1;31mRunning cells with 'c:\\Users\\vi\\Second_hand_car_perdiction\\venv\\python.exe' requires the ipykernel package.\n",
      "\u001b[1;31mRun the following command to install 'ipykernel' into the Python environment. \n",
      "\u001b[1;31mCommand: 'conda install -p c:\\Users\\vi\\Second_hand_car_perdiction\\venv ipykernel --update-deps --force-reinstall'"
     ]
    }
   ],
   "source": [
    "grid = GridSearchCV(pipe,param_grid=param_grid,n_jobs=-1,verbose=1,cv=5)"
   ]
  },
  {
   "cell_type": "code",
   "execution_count": null,
   "id": "4c9f1ef9",
   "metadata": {},
   "outputs": [
    {
     "ename": "",
     "evalue": "",
     "output_type": "error",
     "traceback": [
      "\u001b[1;31mRunning cells with 'c:\\Users\\vi\\Second_hand_car_perdiction\\venv\\python.exe' requires the ipykernel package.\n",
      "\u001b[1;31mRun the following command to install 'ipykernel' into the Python environment. \n",
      "\u001b[1;31mCommand: 'conda install -p c:\\Users\\vi\\Second_hand_car_perdiction\\venv ipykernel --update-deps --force-reinstall'"
     ]
    }
   ],
   "source": [
    "grid.fit(X_train,y_train)"
   ]
  },
  {
   "cell_type": "code",
   "execution_count": null,
   "id": "243eddc0",
   "metadata": {},
   "outputs": [
    {
     "ename": "",
     "evalue": "",
     "output_type": "error",
     "traceback": [
      "\u001b[1;31mRunning cells with 'c:\\Users\\vi\\Second_hand_car_perdiction\\venv\\python.exe' requires the ipykernel package.\n",
      "\u001b[1;31mRun the following command to install 'ipykernel' into the Python environment. \n",
      "\u001b[1;31mCommand: 'conda install -p c:\\Users\\vi\\Second_hand_car_perdiction\\venv ipykernel --update-deps --force-reinstall'"
     ]
    }
   ],
   "source": []
  }
 ],
 "metadata": {
  "kernelspec": {
   "display_name": "Python 3 (ipykernel)",
   "language": "python",
   "name": "python3"
  },
  "language_info": {
   "codemirror_mode": {
    "name": "ipython",
    "version": 3
   },
   "file_extension": ".py",
   "mimetype": "text/x-python",
   "name": "python",
   "nbconvert_exporter": "python",
   "pygments_lexer": "ipython3",
   "version": "3.9.0"
  }
 },
 "nbformat": 4,
 "nbformat_minor": 5
}
